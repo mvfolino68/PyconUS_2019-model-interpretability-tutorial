{
  "nbformat": 4,
  "nbformat_minor": 0,
  "metadata": {
    "colab": {
      "name": "01-interpretability_eli5-solution.ipynb",
      "version": "0.3.2",
      "provenance": [],
      "include_colab_link": true
    },
    "language_info": {
      "codemirror_mode": {
        "name": "ipython",
        "version": 3
      },
      "file_extension": ".py",
      "mimetype": "text/x-python",
      "name": "python",
      "nbconvert_exporter": "python",
      "pygments_lexer": "ipython3",
      "version": "3.6.8"
    },
    "kernelspec": {
      "display_name": "Python 3",
      "language": "python",
      "name": "python3"
    }
  },
  "cells": [
    {
      "cell_type": "markdown",
      "metadata": {
        "id": "view-in-github",
        "colab_type": "text"
      },
      "source": [
        "<a href=\"https://colab.research.google.com/github/mvfolino68/PyconUS_2019-model-interpretability-tutorial/blob/master/01_interpretability_eli5_solution.ipynb\" target=\"_parent\"><img src=\"https://colab.research.google.com/assets/colab-badge.svg\" alt=\"Open In Colab\"/></a>"
      ]
    },
    {
      "cell_type": "markdown",
      "metadata": {
        "id": "8b99YDUlEDV0",
        "colab_type": "text"
      },
      "source": [
        "# Machine Learning Modelling and Interpretability"
      ]
    },
    {
      "cell_type": "markdown",
      "metadata": {
        "id": "KDgJPC_ygIhb",
        "colab_type": "text"
      },
      "source": [
        "##Problem Definition\n",
        "\n",
        "Build a classifiers that given characteristics about an individual, and how they were approached by the marketing team, we can predict whether they will subscribe to a term deposit (column `y`)."
      ]
    },
    {
      "cell_type": "markdown",
      "metadata": {
        "id": "isQWkgnegoHQ",
        "colab_type": "text"
      },
      "source": [
        "###Set up environment"
      ]
    },
    {
      "cell_type": "code",
      "metadata": {
        "id": "8JmUDFW0EEID",
        "colab_type": "code",
        "colab": {}
      },
      "source": [
        "# Setup Colab\n",
        "!wget https://raw.githubusercontent.com/klemag/PyconUS_2019-model-interpretability-tutorial/master/setup_colab.sh\n",
        "!bash setup_colab.sh"
      ],
      "execution_count": 0,
      "outputs": []
    },
    {
      "cell_type": "markdown",
      "metadata": {
        "id": "7KpHh5FmEDV6",
        "colab_type": "text"
      },
      "source": [
        "Note: This notebook uses features introduced in Python 3.6 and sklearn 0.20. \n",
        "\n",
        "First we'll need a few imports:"
      ]
    },
    {
      "cell_type": "code",
      "metadata": {
        "id": "D7JhsmUSEDV9",
        "colab_type": "code",
        "colab": {}
      },
      "source": [
        "# Obviously\n",
        "import pandas as pd\n",
        "\n",
        "# Some sklearn tools for preprocessing. \n",
        "# ColumnTransformer was introduced in 0.20 so make sure you have this version\n",
        "from sklearn.preprocessing import OneHotEncoder\n",
        "from sklearn.compose import ColumnTransformer\n",
        "from sklearn.model_selection import train_test_split, GridSearchCV\n",
        "\n",
        "# In terms of metric we'll need balanced accuracy score and classification report\n",
        "# More on that later...\n",
        "from sklearn.metrics import balanced_accuracy_score, classification_report\n",
        "\n",
        "# Our algorithms, from the easiest to the hardest to intepret.\n",
        "from sklearn.linear_model import LogisticRegression\n",
        "from sklearn.tree import DecisionTreeClassifier\n",
        "from sklearn.ensemble import RandomForestClassifier\n",
        "from lightgbm.sklearn import LGBMClassifier"
      ],
      "execution_count": 0,
      "outputs": []
    },
    {
      "cell_type": "markdown",
      "metadata": {
        "id": "NVm1cFsUEDWG",
        "colab_type": "text"
      },
      "source": [
        "### Get the Data"
      ]
    },
    {
      "cell_type": "markdown",
      "metadata": {
        "id": "4hs04vbkEDWI",
        "colab_type": "text"
      },
      "source": [
        "The data is based on a dataset available [here](https://archive.ics.uci.edu/ml/datasets/bank+marketing). \n",
        "\n",
        "It consists of data from marketing campaigns of a Portuguese bank. We will build classifiers that given characteristics about an individual, and how they were approached by the marketing team, we can predict whether they will subscribe to a term deposit (column `y`). \n"
      ]
    },
    {
      "cell_type": "code",
      "metadata": {
        "id": "PkW6HWMMEDWJ",
        "colab_type": "code",
        "colab": {
          "base_uri": "https://localhost:8080/",
          "height": 204
        },
        "outputId": "65a4e3cd-663b-4e51-8f6c-7b4e9dccfe93"
      },
      "source": [
        "df = pd.read_csv(\"data/bank.csv\")\n",
        "\n",
        "df.head()"
      ],
      "execution_count": 8,
      "outputs": [
        {
          "output_type": "execute_result",
          "data": {
            "text/html": [
              "<div>\n",
              "<style scoped>\n",
              "    .dataframe tbody tr th:only-of-type {\n",
              "        vertical-align: middle;\n",
              "    }\n",
              "\n",
              "    .dataframe tbody tr th {\n",
              "        vertical-align: top;\n",
              "    }\n",
              "\n",
              "    .dataframe thead th {\n",
              "        text-align: right;\n",
              "    }\n",
              "</style>\n",
              "<table border=\"1\" class=\"dataframe\">\n",
              "  <thead>\n",
              "    <tr style=\"text-align: right;\">\n",
              "      <th></th>\n",
              "      <th>age</th>\n",
              "      <th>job</th>\n",
              "      <th>marital</th>\n",
              "      <th>education</th>\n",
              "      <th>default</th>\n",
              "      <th>housing</th>\n",
              "      <th>loan</th>\n",
              "      <th>contact</th>\n",
              "      <th>month</th>\n",
              "      <th>day_of_week</th>\n",
              "      <th>campaign</th>\n",
              "      <th>pdays</th>\n",
              "      <th>previous</th>\n",
              "      <th>poutcome</th>\n",
              "      <th>y</th>\n",
              "    </tr>\n",
              "  </thead>\n",
              "  <tbody>\n",
              "    <tr>\n",
              "      <th>0</th>\n",
              "      <td>56</td>\n",
              "      <td>housemaid</td>\n",
              "      <td>married</td>\n",
              "      <td>basic.4y</td>\n",
              "      <td>no</td>\n",
              "      <td>no</td>\n",
              "      <td>no</td>\n",
              "      <td>telephone</td>\n",
              "      <td>may</td>\n",
              "      <td>mon</td>\n",
              "      <td>1</td>\n",
              "      <td>999</td>\n",
              "      <td>0</td>\n",
              "      <td>nonexistent</td>\n",
              "      <td>no</td>\n",
              "    </tr>\n",
              "    <tr>\n",
              "      <th>1</th>\n",
              "      <td>57</td>\n",
              "      <td>services</td>\n",
              "      <td>married</td>\n",
              "      <td>high.school</td>\n",
              "      <td>unknown</td>\n",
              "      <td>no</td>\n",
              "      <td>no</td>\n",
              "      <td>telephone</td>\n",
              "      <td>may</td>\n",
              "      <td>mon</td>\n",
              "      <td>1</td>\n",
              "      <td>999</td>\n",
              "      <td>0</td>\n",
              "      <td>nonexistent</td>\n",
              "      <td>no</td>\n",
              "    </tr>\n",
              "    <tr>\n",
              "      <th>2</th>\n",
              "      <td>37</td>\n",
              "      <td>services</td>\n",
              "      <td>married</td>\n",
              "      <td>high.school</td>\n",
              "      <td>no</td>\n",
              "      <td>yes</td>\n",
              "      <td>no</td>\n",
              "      <td>telephone</td>\n",
              "      <td>may</td>\n",
              "      <td>mon</td>\n",
              "      <td>1</td>\n",
              "      <td>999</td>\n",
              "      <td>0</td>\n",
              "      <td>nonexistent</td>\n",
              "      <td>no</td>\n",
              "    </tr>\n",
              "    <tr>\n",
              "      <th>3</th>\n",
              "      <td>40</td>\n",
              "      <td>admin.</td>\n",
              "      <td>married</td>\n",
              "      <td>basic.6y</td>\n",
              "      <td>no</td>\n",
              "      <td>no</td>\n",
              "      <td>no</td>\n",
              "      <td>telephone</td>\n",
              "      <td>may</td>\n",
              "      <td>mon</td>\n",
              "      <td>1</td>\n",
              "      <td>999</td>\n",
              "      <td>0</td>\n",
              "      <td>nonexistent</td>\n",
              "      <td>no</td>\n",
              "    </tr>\n",
              "    <tr>\n",
              "      <th>4</th>\n",
              "      <td>56</td>\n",
              "      <td>services</td>\n",
              "      <td>married</td>\n",
              "      <td>high.school</td>\n",
              "      <td>no</td>\n",
              "      <td>no</td>\n",
              "      <td>yes</td>\n",
              "      <td>telephone</td>\n",
              "      <td>may</td>\n",
              "      <td>mon</td>\n",
              "      <td>1</td>\n",
              "      <td>999</td>\n",
              "      <td>0</td>\n",
              "      <td>nonexistent</td>\n",
              "      <td>no</td>\n",
              "    </tr>\n",
              "  </tbody>\n",
              "</table>\n",
              "</div>"
            ],
            "text/plain": [
              "   age        job  marital    education  default housing loan    contact  \\\n",
              "0   56  housemaid  married     basic.4y       no      no   no  telephone   \n",
              "1   57   services  married  high.school  unknown      no   no  telephone   \n",
              "2   37   services  married  high.school       no     yes   no  telephone   \n",
              "3   40     admin.  married     basic.6y       no      no   no  telephone   \n",
              "4   56   services  married  high.school       no      no  yes  telephone   \n",
              "\n",
              "  month day_of_week  campaign  pdays  previous     poutcome   y  \n",
              "0   may         mon         1    999         0  nonexistent  no  \n",
              "1   may         mon         1    999         0  nonexistent  no  \n",
              "2   may         mon         1    999         0  nonexistent  no  \n",
              "3   may         mon         1    999         0  nonexistent  no  \n",
              "4   may         mon         1    999         0  nonexistent  no  "
            ]
          },
          "metadata": {
            "tags": []
          },
          "execution_count": 8
        }
      ]
    },
    {
      "cell_type": "code",
      "metadata": {
        "scrolled": true,
        "id": "MUdSUw4PEDWN",
        "colab_type": "code",
        "colab": {
          "base_uri": "https://localhost:8080/",
          "height": 68
        },
        "outputId": "ed067f5c-2811-4b5f-8583-d48154d4d3fe"
      },
      "source": [
        "df.y.value_counts()"
      ],
      "execution_count": 9,
      "outputs": [
        {
          "output_type": "execute_result",
          "data": {
            "text/plain": [
              "no     36548\n",
              "yes     4640\n",
              "Name: y, dtype: int64"
            ]
          },
          "metadata": {
            "tags": []
          },
          "execution_count": 9
        }
      ]
    },
    {
      "cell_type": "markdown",
      "metadata": {
        "id": "vSvwxiIPEDWR",
        "colab_type": "text"
      },
      "source": [
        "The dataset is imbalanced, we will need to keep that in mind when building our models..."
      ]
    },
    {
      "cell_type": "markdown",
      "metadata": {
        "id": "yxVVrNgKg9oD",
        "colab_type": "text"
      },
      "source": [
        "###Clean, prepare and Explore the Data"
      ]
    },
    {
      "cell_type": "code",
      "metadata": {
        "id": "Q6Kj-iWVEDWS",
        "colab_type": "code",
        "colab": {}
      },
      "source": [
        "# Get the feature matrix (X) and the target vector (y)\n",
        "\n",
        "y = df[\"y\"].map({\"no\": 0, \"yes\": 1})\n",
        "X = df.drop(\"y\", axis=1)\n",
        "\n"
      ],
      "execution_count": 0,
      "outputs": []
    },
    {
      "cell_type": "markdown",
      "metadata": {
        "id": "B0y0Es26EDWV",
        "colab_type": "text"
      },
      "source": [
        "Let's look at the features in the X matrix and their types:"
      ]
    },
    {
      "cell_type": "code",
      "metadata": {
        "id": "A1lalmHLEDWW",
        "colab_type": "code",
        "colab": {
          "base_uri": "https://localhost:8080/",
          "height": 272
        },
        "outputId": "a810deab-71a8-45a7-cdb3-4ec649e908ac"
      },
      "source": [
        "X.dtypes"
      ],
      "execution_count": 11,
      "outputs": [
        {
          "output_type": "execute_result",
          "data": {
            "text/plain": [
              "age             int64\n",
              "job            object\n",
              "marital        object\n",
              "education      object\n",
              "default        object\n",
              "housing        object\n",
              "loan           object\n",
              "contact        object\n",
              "month          object\n",
              "day_of_week    object\n",
              "campaign        int64\n",
              "pdays           int64\n",
              "previous        int64\n",
              "poutcome       object\n",
              "dtype: object"
            ]
          },
          "metadata": {
            "tags": []
          },
          "execution_count": 11
        }
      ]
    },
    {
      "cell_type": "markdown",
      "metadata": {
        "id": "4qTf13PkEDWZ",
        "colab_type": "text"
      },
      "source": [
        "1. `age` (numeric)\n",
        "2. `job` : type of job (categorical: 'admin.','blue-collar','entrepreneur','housemaid','management','retired','self-employed','services','student','technician','unemployed','unknown')\n",
        "3. `marital` : marital status (categorical: 'divorced','married','single','unknown'; note: 'divorced' means divorced or widowed)\n",
        "4. `education` (categorical: 'basic.4y','basic.6y','basic.9y','high.school','illiterate','professional.course','university.degree','unknown')\n",
        "5. `default`: has credit in default? (categorical: 'no','yes','unknown')\n",
        "6. `housing`: has housing loan? (categorical: 'no','yes','unknown')\n",
        "7. `loan`: has personal loan? (categorical: 'no','yes','unknown')\n",
        "8. `contact`: contact communication type (categorical: 'cellular','telephone') \n",
        "9. `month`: last contact month of year (categorical: 'jan', 'feb', 'mar', ..., 'nov', 'dec')\n",
        "10. `day_of_week`: last contact day of the week (categorical: 'mon','tue','wed','thu','fri')\n",
        "11. `campaign`: number of contacts performed during this campaign and for this client (numeric, includes last contact)\n",
        "12. `pdays`: number of days that passed by after the client was last contacted from a previous campaign (numeric; 999 means client was not previously contacted)\n",
        "13. `previous`: number of contacts performed before this campaign and for this client (numeric)\n",
        "14. `poutcome`: outcome of the previous marketing campaign (categorical: 'failure','nonexistent','success')"
      ]
    },
    {
      "cell_type": "code",
      "metadata": {
        "id": "eJzx39-deTBG",
        "colab_type": "code",
        "colab": {
          "base_uri": "https://localhost:8080/",
          "height": 636
        },
        "outputId": "ef43865e-9683-4b23-d81f-c1a55b41969d"
      },
      "source": [
        "%matplotlib inline\n",
        "import matplotlib.pyplot as plt\n",
        "\n",
        "pd.plotting.scatter_matrix(X,figsize=(10,10))\n",
        "plt.figure();"
      ],
      "execution_count": 34,
      "outputs": [
        {
          "output_type": "display_data",
          "data": {
            "image/png": "[encoded data removed]",
            "text/plain": [
              "<Figure size 720x720 with 16 Axes>"
            ]
          },
          "metadata": {
            "tags": []
          }
        },
        {
          "output_type": "display_data",
          "data": {
            "text/plain": [
              "<Figure size 432x288 with 0 Axes>"
            ]
          },
          "metadata": {
            "tags": []
          }
        }
      ]
    },
    {
      "cell_type": "markdown",
      "metadata": {
        "id": "wsesb8u3EDWa",
        "colab_type": "text"
      },
      "source": [
        "What features do you expect to be relevant to predict whether someone will subscribe to our plan?\n",
        "\n",
        "To find those, we will train models and interpret them."
      ]
    },
    {
      "cell_type": "markdown",
      "metadata": {
        "id": "j269hriuEDWb",
        "colab_type": "text"
      },
      "source": [
        "First, let's create a list of numerical and categorical features so we can easily select one or the other later:"
      ]
    },
    {
      "cell_type": "code",
      "metadata": {
        "id": "egAcsdozEDWc",
        "colab_type": "code",
        "colab": {}
      },
      "source": [
        "# Some such as default would be binary features, but since\n",
        "# they have a third class \"unknown\" we'll process them as non binary categorical\n",
        "num_features = [\"age\", \"campaign\", \"pdays\", \"previous\"]\n",
        "\n",
        "cat_features = [\"job\", \"marital\", \"education\",\"default\", \"housing\", \"loan\",\n",
        "                \"contact\", \"month\", \"day_of_week\", \"poutcome\"]"
      ],
      "execution_count": 0,
      "outputs": []
    },
    {
      "cell_type": "markdown",
      "metadata": {
        "id": "u3vCMcKCEDWg",
        "colab_type": "text"
      },
      "source": [
        "First, we'll define a new `ColumnTransformer` object that just keeps our numerical features as they are and apply one hot encoding on our categorical features. This transformer can be fitted on the training set and used to transform the test set in the same way:"
      ]
    },
    {
      "cell_type": "code",
      "metadata": {
        "id": "xFO-8JPZEDWi",
        "colab_type": "code",
        "colab": {}
      },
      "source": [
        "preprocessor = ColumnTransformer([(\"numerical\", \"passthrough\", num_features), \n",
        "                                  (\"categorical\", OneHotEncoder(sparse=False, handle_unknown=\"ignore\"),\n",
        "                                   cat_features)])"
      ],
      "execution_count": 0,
      "outputs": []
    },
    {
      "cell_type": "markdown",
      "metadata": {
        "id": "cSM4_vloEDWm",
        "colab_type": "text"
      },
      "source": [
        "Let's split the data into training and test sets. Create `X_train`, `X_test`, `y_train` and `y_test` using `train_test_split` from sklearn:"
      ]
    },
    {
      "cell_type": "code",
      "metadata": {
        "id": "skPmU7B5EDWn",
        "colab_type": "code",
        "colab": {}
      },
      "source": [
        "X_train, X_test, y_train, y_test = train_test_split(X, y, stratify=y, test_size=.3, random_state=42)\n"
      ],
      "execution_count": 0,
      "outputs": []
    },
    {
      "cell_type": "markdown",
      "metadata": {
        "id": "6FBBTYIaEDWr",
        "colab_type": "text"
      },
      "source": [
        "Now we can create processed versions of X_train and X_test, ready to be used by our algorithms. To do so we will start by fitting the processor on X_train:"
      ]
    },
    {
      "cell_type": "code",
      "metadata": {
        "id": "FyLf4eQ9EDWs",
        "colab_type": "code",
        "colab": {
          "base_uri": "https://localhost:8080/",
          "height": 136
        },
        "outputId": "630fb156-af4f-4c11-e709-fc779df61320"
      },
      "source": [
        "preprocessor.fit(X_train)\n",
        "\n",
        "preprocessor.transform(X_train)"
      ],
      "execution_count": 15,
      "outputs": [
        {
          "output_type": "execute_result",
          "data": {
            "text/plain": [
              "array([[ 50.,   2., 999., ...,   0.,   1.,   0.],\n",
              "       [ 51.,   5., 999., ...,   0.,   1.,   0.],\n",
              "       [ 46.,   2., 999., ...,   0.,   1.,   0.],\n",
              "       ...,\n",
              "       [ 35.,   3., 999., ...,   0.,   1.,   0.],\n",
              "       [ 32.,   4., 999., ...,   0.,   1.,   0.],\n",
              "       [ 31.,   3., 999., ...,   0.,   1.,   0.]])"
            ]
          },
          "metadata": {
            "tags": []
          },
          "execution_count": 15
        }
      ]
    },
    {
      "cell_type": "markdown",
      "metadata": {
        "id": "FrPGqiQfEDWu",
        "colab_type": "text"
      },
      "source": [
        "When we call transform, the preprocessor returns a numpy array, which is great for Machine Learning algorithms to process ... but not so great for us humans to interpret. So we will wrap it up back to DataFrame with nice column names. To do so we will need to give nice names to the dummy feature generated by the one hot encoder. The code below extracts the list of categories, creates nice names for the dummy feature and create a new list `all_features` with good names for our columns:"
      ]
    },
    {
      "cell_type": "code",
      "metadata": {
        "id": "ZYHDoGIEEDWv",
        "colab_type": "code",
        "colab": {}
      },
      "source": [
        "# Get the list of categories generated by the process\n",
        "ohe_categories = preprocessor.named_transformers_[\"categorical\"].categories_\n",
        "\n",
        "# Create nice names for our one hot encoded features\n",
        "new_ohe_features = [f\"{col}__{val}\" for col, vals in zip(cat_features, ohe_categories) for val in vals]\n",
        "\n",
        "# Create a new list with all names of features\n",
        "all_features = num_features + new_ohe_features"
      ],
      "execution_count": 0,
      "outputs": []
    },
    {
      "cell_type": "markdown",
      "metadata": {
        "id": "QVKlWP4pEDWx",
        "colab_type": "text"
      },
      "source": [
        "Great, now we can create our preprocessed DataFrames with good column names:"
      ]
    },
    {
      "cell_type": "code",
      "metadata": {
        "id": "cDfGgkLCEDWx",
        "colab_type": "code",
        "colab": {}
      },
      "source": [
        "X_train = pd.DataFrame(preprocessor.transform(X_train), columns=all_features)\n",
        "X_test = pd.DataFrame(preprocessor.transform(X_test), columns=all_features)"
      ],
      "execution_count": 0,
      "outputs": []
    },
    {
      "cell_type": "code",
      "metadata": {
        "id": "bPk7DQI6EDWz",
        "colab_type": "code",
        "colab": {
          "base_uri": "https://localhost:8080/",
          "height": 270
        },
        "outputId": "1e4ea129-668e-4442-b0e7-76615d6f7fdd"
      },
      "source": [
        "X_train.head()"
      ],
      "execution_count": 18,
      "outputs": [
        {
          "output_type": "execute_result",
          "data": {
            "text/html": [
              "<div>\n",
              "<style scoped>\n",
              "    .dataframe tbody tr th:only-of-type {\n",
              "        vertical-align: middle;\n",
              "    }\n",
              "\n",
              "    .dataframe tbody tr th {\n",
              "        vertical-align: top;\n",
              "    }\n",
              "\n",
              "    .dataframe thead th {\n",
              "        text-align: right;\n",
              "    }\n",
              "</style>\n",
              "<table border=\"1\" class=\"dataframe\">\n",
              "  <thead>\n",
              "    <tr style=\"text-align: right;\">\n",
              "      <th></th>\n",
              "      <th>age</th>\n",
              "      <th>campaign</th>\n",
              "      <th>pdays</th>\n",
              "      <th>previous</th>\n",
              "      <th>job__admin.</th>\n",
              "      <th>job__blue-collar</th>\n",
              "      <th>job__entrepreneur</th>\n",
              "      <th>job__housemaid</th>\n",
              "      <th>job__management</th>\n",
              "      <th>job__retired</th>\n",
              "      <th>...</th>\n",
              "      <th>month__oct</th>\n",
              "      <th>month__sep</th>\n",
              "      <th>day_of_week__fri</th>\n",
              "      <th>day_of_week__mon</th>\n",
              "      <th>day_of_week__thu</th>\n",
              "      <th>day_of_week__tue</th>\n",
              "      <th>day_of_week__wed</th>\n",
              "      <th>poutcome__failure</th>\n",
              "      <th>poutcome__nonexistent</th>\n",
              "      <th>poutcome__success</th>\n",
              "    </tr>\n",
              "  </thead>\n",
              "  <tbody>\n",
              "    <tr>\n",
              "      <th>0</th>\n",
              "      <td>50.0</td>\n",
              "      <td>2.0</td>\n",
              "      <td>999.0</td>\n",
              "      <td>0.0</td>\n",
              "      <td>0.0</td>\n",
              "      <td>1.0</td>\n",
              "      <td>0.0</td>\n",
              "      <td>0.0</td>\n",
              "      <td>0.0</td>\n",
              "      <td>0.0</td>\n",
              "      <td>...</td>\n",
              "      <td>0.0</td>\n",
              "      <td>0.0</td>\n",
              "      <td>0.0</td>\n",
              "      <td>0.0</td>\n",
              "      <td>1.0</td>\n",
              "      <td>0.0</td>\n",
              "      <td>0.0</td>\n",
              "      <td>0.0</td>\n",
              "      <td>1.0</td>\n",
              "      <td>0.0</td>\n",
              "    </tr>\n",
              "    <tr>\n",
              "      <th>1</th>\n",
              "      <td>51.0</td>\n",
              "      <td>5.0</td>\n",
              "      <td>999.0</td>\n",
              "      <td>0.0</td>\n",
              "      <td>0.0</td>\n",
              "      <td>0.0</td>\n",
              "      <td>0.0</td>\n",
              "      <td>0.0</td>\n",
              "      <td>0.0</td>\n",
              "      <td>0.0</td>\n",
              "      <td>...</td>\n",
              "      <td>0.0</td>\n",
              "      <td>0.0</td>\n",
              "      <td>0.0</td>\n",
              "      <td>1.0</td>\n",
              "      <td>0.0</td>\n",
              "      <td>0.0</td>\n",
              "      <td>0.0</td>\n",
              "      <td>0.0</td>\n",
              "      <td>1.0</td>\n",
              "      <td>0.0</td>\n",
              "    </tr>\n",
              "    <tr>\n",
              "      <th>2</th>\n",
              "      <td>46.0</td>\n",
              "      <td>2.0</td>\n",
              "      <td>999.0</td>\n",
              "      <td>0.0</td>\n",
              "      <td>0.0</td>\n",
              "      <td>0.0</td>\n",
              "      <td>0.0</td>\n",
              "      <td>0.0</td>\n",
              "      <td>0.0</td>\n",
              "      <td>0.0</td>\n",
              "      <td>...</td>\n",
              "      <td>0.0</td>\n",
              "      <td>0.0</td>\n",
              "      <td>0.0</td>\n",
              "      <td>1.0</td>\n",
              "      <td>0.0</td>\n",
              "      <td>0.0</td>\n",
              "      <td>0.0</td>\n",
              "      <td>0.0</td>\n",
              "      <td>1.0</td>\n",
              "      <td>0.0</td>\n",
              "    </tr>\n",
              "    <tr>\n",
              "      <th>3</th>\n",
              "      <td>46.0</td>\n",
              "      <td>1.0</td>\n",
              "      <td>999.0</td>\n",
              "      <td>0.0</td>\n",
              "      <td>1.0</td>\n",
              "      <td>0.0</td>\n",
              "      <td>0.0</td>\n",
              "      <td>0.0</td>\n",
              "      <td>0.0</td>\n",
              "      <td>0.0</td>\n",
              "      <td>...</td>\n",
              "      <td>0.0</td>\n",
              "      <td>0.0</td>\n",
              "      <td>0.0</td>\n",
              "      <td>1.0</td>\n",
              "      <td>0.0</td>\n",
              "      <td>0.0</td>\n",
              "      <td>0.0</td>\n",
              "      <td>0.0</td>\n",
              "      <td>1.0</td>\n",
              "      <td>0.0</td>\n",
              "    </tr>\n",
              "    <tr>\n",
              "      <th>4</th>\n",
              "      <td>25.0</td>\n",
              "      <td>5.0</td>\n",
              "      <td>999.0</td>\n",
              "      <td>0.0</td>\n",
              "      <td>0.0</td>\n",
              "      <td>0.0</td>\n",
              "      <td>0.0</td>\n",
              "      <td>0.0</td>\n",
              "      <td>0.0</td>\n",
              "      <td>0.0</td>\n",
              "      <td>...</td>\n",
              "      <td>0.0</td>\n",
              "      <td>0.0</td>\n",
              "      <td>0.0</td>\n",
              "      <td>0.0</td>\n",
              "      <td>1.0</td>\n",
              "      <td>0.0</td>\n",
              "      <td>0.0</td>\n",
              "      <td>0.0</td>\n",
              "      <td>1.0</td>\n",
              "      <td>0.0</td>\n",
              "    </tr>\n",
              "  </tbody>\n",
              "</table>\n",
              "<p>5 rows × 57 columns</p>\n",
              "</div>"
            ],
            "text/plain": [
              "    age  campaign  pdays  previous  job__admin.  job__blue-collar  \\\n",
              "0  50.0       2.0  999.0       0.0          0.0               1.0   \n",
              "1  51.0       5.0  999.0       0.0          0.0               0.0   \n",
              "2  46.0       2.0  999.0       0.0          0.0               0.0   \n",
              "3  46.0       1.0  999.0       0.0          1.0               0.0   \n",
              "4  25.0       5.0  999.0       0.0          0.0               0.0   \n",
              "\n",
              "   job__entrepreneur  job__housemaid  job__management  job__retired  ...  \\\n",
              "0                0.0             0.0              0.0           0.0  ...   \n",
              "1                0.0             0.0              0.0           0.0  ...   \n",
              "2                0.0             0.0              0.0           0.0  ...   \n",
              "3                0.0             0.0              0.0           0.0  ...   \n",
              "4                0.0             0.0              0.0           0.0  ...   \n",
              "\n",
              "   month__oct  month__sep  day_of_week__fri  day_of_week__mon  \\\n",
              "0         0.0         0.0               0.0               0.0   \n",
              "1         0.0         0.0               0.0               1.0   \n",
              "2         0.0         0.0               0.0               1.0   \n",
              "3         0.0         0.0               0.0               1.0   \n",
              "4         0.0         0.0               0.0               0.0   \n",
              "\n",
              "   day_of_week__thu  day_of_week__tue  day_of_week__wed  poutcome__failure  \\\n",
              "0               1.0               0.0               0.0                0.0   \n",
              "1               0.0               0.0               0.0                0.0   \n",
              "2               0.0               0.0               0.0                0.0   \n",
              "3               0.0               0.0               0.0                0.0   \n",
              "4               1.0               0.0               0.0                0.0   \n",
              "\n",
              "   poutcome__nonexistent  poutcome__success  \n",
              "0                    1.0                0.0  \n",
              "1                    1.0                0.0  \n",
              "2                    1.0                0.0  \n",
              "3                    1.0                0.0  \n",
              "4                    1.0                0.0  \n",
              "\n",
              "[5 rows x 57 columns]"
            ]
          },
          "metadata": {
            "tags": []
          },
          "execution_count": 18
        }
      ]
    },
    {
      "cell_type": "markdown",
      "metadata": {
        "id": "iKFQMkjIEDW1",
        "colab_type": "text"
      },
      "source": [
        "Looks good!"
      ]
    },
    {
      "cell_type": "markdown",
      "metadata": {
        "id": "xaV0vlcHEDW2",
        "colab_type": "text"
      },
      "source": [
        "### Select Model(s)"
      ]
    },
    {
      "cell_type": "markdown",
      "metadata": {
        "id": "7B73KTFwEDW2",
        "colab_type": "text"
      },
      "source": [
        "Let's start with a LogisticRegression:"
      ]
    },
    {
      "cell_type": "code",
      "metadata": {
        "id": "C_ce42NAEDW3",
        "colab_type": "code",
        "colab": {}
      },
      "source": [
        "# Logistic Regression\n",
        "lr_model = LogisticRegression(class_weight=\"balanced\", solver=\"liblinear\", random_state=42)"
      ],
      "execution_count": 0,
      "outputs": []
    },
    {
      "cell_type": "markdown",
      "metadata": {
        "id": "yNtsAPP1EDW5",
        "colab_type": "text"
      },
      "source": [
        "Here we keep most parameters to default as we'll tune the model later. But defined `class_weight` to be balanced in order to take into account the imbalance in our dataset. \n",
        "\n",
        "Create `dt_model`, `rf_model` and `lgb_model` respectively using a Decistion Tree, a Random Forest and an LightGBM classifier, everytime make sure you set `class_weight` to `\"balanced\"`"
      ]
    },
    {
      "cell_type": "code",
      "metadata": {
        "id": "Rq-FD6XKEDW7",
        "colab_type": "code",
        "colab": {}
      },
      "source": [
        "# Decision Tree\n",
        "dt_model = DecisionTreeClassifier(class_weight=\"balanced\")\n",
        "\n",
        "# Random Forest\n",
        "rf_model = RandomForestClassifier(class_weight=\"balanced\", n_estimators=150, n_jobs=-1)\n",
        "\n",
        "# LightGBM -- Boosting model\n",
        "lgb_model = LGBMClassifier(class_weight=\"balanced\", n_jobs=-1)\n"
      ],
      "execution_count": 0,
      "outputs": []
    },
    {
      "cell_type": "markdown",
      "metadata": {
        "id": "MTTqMTKUEDW-",
        "colab_type": "text"
      },
      "source": [
        "##Train models with cross validation"
      ]
    },
    {
      "cell_type": "markdown",
      "metadata": {
        "id": "Flvyz6pGEDW_",
        "colab_type": "text"
      },
      "source": [
        "### With Logistic Regression"
      ]
    },
    {
      "cell_type": "markdown",
      "metadata": {
        "id": "8ajCuSWiEDXB",
        "colab_type": "text"
      },
      "source": [
        "First let's fine tune our logistic regression and evaluate its performance. Here we'll use [\"balanced_accuracy\"](https://scikit-learn.org/stable/modules/generated/sklearn.metrics.balanced_accuracy_score.html#sklearn.metrics.balanced_accuracy_score) as metric to optimise so it takes into account the imbalance of classes."
      ]
    },
    {
      "cell_type": "code",
      "metadata": {
        "id": "fCHuhWLEEDXE",
        "colab_type": "code",
        "colab": {
          "base_uri": "https://localhost:8080/",
          "height": 170
        },
        "outputId": "87cae373-7a1f-4405-e0b3-87f32ec899f9"
      },
      "source": [
        "gs = GridSearchCV(lr_model, {\"C\": [1., 1.3, 1.5]}, n_jobs=-1, cv=5, scoring=\"balanced_accuracy\")\n",
        "gs.fit(X_train, y_train)"
      ],
      "execution_count": 21,
      "outputs": [
        {
          "output_type": "execute_result",
          "data": {
            "text/plain": [
              "GridSearchCV(cv=5, error_score='raise-deprecating',\n",
              "       estimator=LogisticRegression(C=1.0, class_weight='balanced', dual=False,\n",
              "          fit_intercept=True, intercept_scaling=1, max_iter=100,\n",
              "          multi_class='warn', n_jobs=None, penalty='l2', random_state=42,\n",
              "          solver='liblinear', tol=0.0001, verbose=0, warm_start=False),\n",
              "       fit_params=None, iid='warn', n_jobs=-1,\n",
              "       param_grid={'C': [1.0, 1.3, 1.5]}, pre_dispatch='2*n_jobs',\n",
              "       refit=True, return_train_score='warn', scoring='balanced_accuracy',\n",
              "       verbose=0)"
            ]
          },
          "metadata": {
            "tags": []
          },
          "execution_count": 21
        }
      ]
    },
    {
      "cell_type": "markdown",
      "metadata": {
        "id": "8gcVYpILEDXG",
        "colab_type": "text"
      },
      "source": [
        "Let's see our best parameters and score"
      ]
    },
    {
      "cell_type": "markdown",
      "metadata": {
        "id": "Rupot_hBEDXG",
        "colab_type": "text"
      },
      "source": [
        "Check the best parameters and best score from the GridSearch object:"
      ]
    },
    {
      "cell_type": "code",
      "metadata": {
        "id": "jgWargG_EDXH",
        "colab_type": "code",
        "colab": {
          "base_uri": "https://localhost:8080/",
          "height": 51
        },
        "outputId": "2c845299-3221-4d7d-d824-4df811a53ac1"
      },
      "source": [
        "print(gs.best_params_)\n",
        "print(gs.best_score_)\n"
      ],
      "execution_count": 22,
      "outputs": [
        {
          "output_type": "stream",
          "text": [
            "{'C': 1.5}\n",
            "0.6973078694024336\n"
          ],
          "name": "stdout"
        }
      ]
    },
    {
      "cell_type": "markdown",
      "metadata": {
        "id": "ww0lZSPXEDXJ",
        "colab_type": "text"
      },
      "source": [
        "Since `GridSearchCV` has a parameter `refit` that is `True` by default, it has re-fitted the model with best parameters on the whole training set. We can access it using `best_estimator_`"
      ]
    },
    {
      "cell_type": "code",
      "metadata": {
        "id": "pgnW9tR0EDXJ",
        "colab_type": "code",
        "colab": {}
      },
      "source": [
        "# LR model is our best trained model for LR\n",
        "lr_model = gs.best_estimator_"
      ],
      "execution_count": 0,
      "outputs": []
    },
    {
      "cell_type": "markdown",
      "metadata": {
        "id": "Q9hP7n1bEDXM",
        "colab_type": "text"
      },
      "source": [
        "Let's check that our model has properly been updated:"
      ]
    },
    {
      "cell_type": "code",
      "metadata": {
        "id": "ml17Yj0GEDXM",
        "colab_type": "code",
        "colab": {
          "base_uri": "https://localhost:8080/",
          "height": 255
        },
        "outputId": "2f90f839-47bf-4f7f-ed97-2764984c108d"
      },
      "source": [
        "lr_model.get_params()"
      ],
      "execution_count": 24,
      "outputs": [
        {
          "output_type": "execute_result",
          "data": {
            "text/plain": [
              "{'C': 1.5,\n",
              " 'class_weight': 'balanced',\n",
              " 'dual': False,\n",
              " 'fit_intercept': True,\n",
              " 'intercept_scaling': 1,\n",
              " 'max_iter': 100,\n",
              " 'multi_class': 'warn',\n",
              " 'n_jobs': None,\n",
              " 'penalty': 'l2',\n",
              " 'random_state': 42,\n",
              " 'solver': 'liblinear',\n",
              " 'tol': 0.0001,\n",
              " 'verbose': 0,\n",
              " 'warm_start': False}"
            ]
          },
          "metadata": {
            "tags": []
          },
          "execution_count": 24
        }
      ]
    },
    {
      "cell_type": "markdown",
      "metadata": {
        "id": "CuzpzR2QEDXO",
        "colab_type": "text"
      },
      "source": [
        "Generate predictions on the test set; `y_pred`:"
      ]
    },
    {
      "cell_type": "markdown",
      "metadata": {
        "id": "5_tB4IZlhxsi",
        "colab_type": "text"
      },
      "source": [
        "##Test and Evaluate Model Performance"
      ]
    },
    {
      "cell_type": "code",
      "metadata": {
        "id": "GGrFLkgqEDXP",
        "colab_type": "code",
        "colab": {}
      },
      "source": [
        "y_pred = lr_model.predict(X_test)\n"
      ],
      "execution_count": 0,
      "outputs": []
    },
    {
      "cell_type": "markdown",
      "metadata": {
        "id": "FyUGaH-iEDXQ",
        "colab_type": "text"
      },
      "source": [
        "Compute balanced accuracy:"
      ]
    },
    {
      "cell_type": "code",
      "metadata": {
        "id": "_JmecUYxEDXR",
        "colab_type": "code",
        "colab": {
          "base_uri": "https://localhost:8080/",
          "height": 34
        },
        "outputId": "b49506ab-c0e8-4cc6-943c-b66bd0d9ffba"
      },
      "source": [
        "balanced_accuracy_score(y_test, y_pred)\n"
      ],
      "execution_count": 26,
      "outputs": [
        {
          "output_type": "execute_result",
          "data": {
            "text/plain": [
              "0.7040817570011164"
            ]
          },
          "metadata": {
            "tags": []
          },
          "execution_count": 26
        }
      ]
    },
    {
      "cell_type": "markdown",
      "metadata": {
        "id": "SanKw5LTEDXS",
        "colab_type": "text"
      },
      "source": [
        "Check the classification report:"
      ]
    },
    {
      "cell_type": "code",
      "metadata": {
        "id": "Fd1znJFzEDXT",
        "colab_type": "code",
        "colab": {
          "base_uri": "https://localhost:8080/",
          "height": 170
        },
        "outputId": "e10039ad-a4b0-4705-bd50-fdb30f29ea21"
      },
      "source": [
        "print(classification_report(y_test, y_pred))\n"
      ],
      "execution_count": 27,
      "outputs": [
        {
          "output_type": "stream",
          "text": [
            "              precision    recall  f1-score   support\n",
            "\n",
            "           0       0.94      0.82      0.88     10965\n",
            "           1       0.29      0.59      0.39      1392\n",
            "\n",
            "   micro avg       0.79      0.79      0.79     12357\n",
            "   macro avg       0.62      0.70      0.63     12357\n",
            "weighted avg       0.87      0.79      0.82     12357\n",
            "\n"
          ],
          "name": "stdout"
        }
      ]
    },
    {
      "cell_type": "markdown",
      "metadata": {
        "id": "an5BwnvUEDXV",
        "colab_type": "text"
      },
      "source": [
        "Great, so now we have a simple model that can predict if someone will subscribe to our plan. This isn't a great model in terms of accuracy, but it's simple enough that we can easily look inside the box and understand how it works.\n",
        "\n",
        "For that we'll use `eli5` that will allow us to visualise the weights associated to each feature.\n",
        "\n",
        "Import eli5 and use `show_weights` to visualise the weights of your model, don't forget to pass your column names as well so `eli5` can display them instead of the column number (check the documentation for `show_weights`)"
      ]
    },
    {
      "cell_type": "code",
      "metadata": {
        "id": "uyYeWj5WEDXV",
        "colab_type": "code",
        "colab": {
          "base_uri": "https://localhost:8080/",
          "height": 463
        },
        "outputId": "3caea589-89db-4e3b-a012-684579b5ca0a"
      },
      "source": [
        "import eli5\n",
        "\n",
        "eli5.show_weights(lr_model, feature_names=all_features)\n"
      ],
      "execution_count": 35,
      "outputs": [
        {
          "output_type": "execute_result",
          "data": {
            "text/html": [
              "\n",
              "    <style>\n",
              "    table.eli5-weights tr:hover {\n",
              "        filter: brightness(85%);\n",
              "    }\n",
              "</style>\n",
              "\n",
              "\n",
              "\n",
              "    \n",
              "\n",
              "    \n",
              "\n",
              "    \n",
              "\n",
              "    \n",
              "\n",
              "    \n",
              "\n",
              "    \n",
              "\n",
              "\n",
              "    \n",
              "\n",
              "    \n",
              "\n",
              "    \n",
              "\n",
              "    \n",
              "        \n",
              "\n",
              "    \n",
              "\n",
              "        \n",
              "            \n",
              "                \n",
              "                \n",
              "    \n",
              "        <p style=\"margin-bottom: 0.5em; margin-top: 0em\">\n",
              "            <b>\n",
              "    \n",
              "        y=1\n",
              "    \n",
              "</b>\n",
              "\n",
              "top features\n",
              "        </p>\n",
              "    \n",
              "    <table class=\"eli5-weights\"\n",
              "           style=\"border-collapse: collapse; border: none; margin-top: 0em; table-layout: auto; margin-bottom: 2em;\">\n",
              "        <thead>\n",
              "        <tr style=\"border: none;\">\n",
              "            \n",
              "                <th style=\"padding: 0 1em 0 0.5em; text-align: right; border: none;\" title=\"Feature weights. Note that weights do not account for feature value scales, so if feature values have different scales, features with highest weights might not be the most important.\">\n",
              "                    Weight<sup>?</sup>\n",
              "                </th>\n",
              "            \n",
              "            <th style=\"padding: 0 0.5em 0 0.5em; text-align: left; border: none;\">Feature</th>\n",
              "            \n",
              "        </tr>\n",
              "        </thead>\n",
              "        <tbody>\n",
              "        \n",
              "            <tr style=\"background-color: hsl(120, 100.00%, 80.00%); border: none;\">\n",
              "    <td style=\"padding: 0 1em 0 0.5em; text-align: right; border: none;\">\n",
              "        +1.170\n",
              "    </td>\n",
              "    <td style=\"padding: 0 0.5em 0 0.5em; text-align: left; border: none;\">\n",
              "        month__mar\n",
              "    </td>\n",
              "    \n",
              "</tr>\n",
              "        \n",
              "            <tr style=\"background-color: hsl(120, 100.00%, 80.64%); border: none;\">\n",
              "    <td style=\"padding: 0 1em 0 0.5em; text-align: right; border: none;\">\n",
              "        +1.117\n",
              "    </td>\n",
              "    <td style=\"padding: 0 0.5em 0 0.5em; text-align: left; border: none;\">\n",
              "        month__dec\n",
              "    </td>\n",
              "    \n",
              "</tr>\n",
              "        \n",
              "            <tr style=\"background-color: hsl(120, 100.00%, 82.48%); border: none;\">\n",
              "    <td style=\"padding: 0 1em 0 0.5em; text-align: right; border: none;\">\n",
              "        +0.968\n",
              "    </td>\n",
              "    <td style=\"padding: 0 0.5em 0 0.5em; text-align: left; border: none;\">\n",
              "        education__illiterate\n",
              "    </td>\n",
              "    \n",
              "</tr>\n",
              "        \n",
              "            <tr style=\"background-color: hsl(120, 100.00%, 83.10%); border: none;\">\n",
              "    <td style=\"padding: 0 1em 0 0.5em; text-align: right; border: none;\">\n",
              "        +0.920\n",
              "    </td>\n",
              "    <td style=\"padding: 0 0.5em 0 0.5em; text-align: left; border: none;\">\n",
              "        month__oct\n",
              "    </td>\n",
              "    \n",
              "</tr>\n",
              "        \n",
              "            <tr style=\"background-color: hsl(120, 100.00%, 85.89%); border: none;\">\n",
              "    <td style=\"padding: 0 1em 0 0.5em; text-align: right; border: none;\">\n",
              "        +0.711\n",
              "    </td>\n",
              "    <td style=\"padding: 0 0.5em 0 0.5em; text-align: left; border: none;\">\n",
              "        contact__cellular\n",
              "    </td>\n",
              "    \n",
              "</tr>\n",
              "        \n",
              "            <tr style=\"background-color: hsl(120, 100.00%, 87.20%); border: none;\">\n",
              "    <td style=\"padding: 0 1em 0 0.5em; text-align: right; border: none;\">\n",
              "        +0.619\n",
              "    </td>\n",
              "    <td style=\"padding: 0 0.5em 0 0.5em; text-align: left; border: none;\">\n",
              "        month__sep\n",
              "    </td>\n",
              "    \n",
              "</tr>\n",
              "        \n",
              "            <tr style=\"background-color: hsl(120, 100.00%, 87.25%); border: none;\">\n",
              "    <td style=\"padding: 0 1em 0 0.5em; text-align: right; border: none;\">\n",
              "        +0.615\n",
              "    </td>\n",
              "    <td style=\"padding: 0 0.5em 0 0.5em; text-align: left; border: none;\">\n",
              "        job__retired\n",
              "    </td>\n",
              "    \n",
              "</tr>\n",
              "        \n",
              "            <tr style=\"background-color: hsl(120, 100.00%, 87.76%); border: none;\">\n",
              "    <td style=\"padding: 0 1em 0 0.5em; text-align: right; border: none;\">\n",
              "        +0.580\n",
              "    </td>\n",
              "    <td style=\"padding: 0 0.5em 0 0.5em; text-align: left; border: none;\">\n",
              "        job__student\n",
              "    </td>\n",
              "    \n",
              "</tr>\n",
              "        \n",
              "            <tr style=\"background-color: hsl(120, 100.00%, 88.00%); border: none;\">\n",
              "    <td style=\"padding: 0 1em 0 0.5em; text-align: right; border: none;\">\n",
              "        +0.564\n",
              "    </td>\n",
              "    <td style=\"padding: 0 0.5em 0 0.5em; text-align: left; border: none;\">\n",
              "        default__no\n",
              "    </td>\n",
              "    \n",
              "</tr>\n",
              "        \n",
              "            <tr style=\"background-color: hsl(120, 100.00%, 88.54%); border: none;\">\n",
              "    <td style=\"padding: 0 1em 0 0.5em; text-align: right; border: none;\">\n",
              "        +0.528\n",
              "    </td>\n",
              "    <td style=\"padding: 0 0.5em 0 0.5em; text-align: left; border: none;\">\n",
              "        &lt;BIAS&gt;\n",
              "    </td>\n",
              "    \n",
              "</tr>\n",
              "        \n",
              "            <tr style=\"background-color: hsl(120, 100.00%, 90.17%); border: none;\">\n",
              "    <td style=\"padding: 0 1em 0 0.5em; text-align: right; border: none;\">\n",
              "        +0.424\n",
              "    </td>\n",
              "    <td style=\"padding: 0 0.5em 0 0.5em; text-align: left; border: none;\">\n",
              "        poutcome__success\n",
              "    </td>\n",
              "    \n",
              "</tr>\n",
              "        \n",
              "            <tr style=\"background-color: hsl(120, 100.00%, 91.03%); border: none;\">\n",
              "    <td style=\"padding: 0 1em 0 0.5em; text-align: right; border: none;\">\n",
              "        +0.372\n",
              "    </td>\n",
              "    <td style=\"padding: 0 0.5em 0 0.5em; text-align: left; border: none;\">\n",
              "        marital__unknown\n",
              "    </td>\n",
              "    \n",
              "</tr>\n",
              "        \n",
              "            <tr style=\"background-color: hsl(120, 100.00%, 94.03%); border: none;\">\n",
              "    <td style=\"padding: 0 1em 0 0.5em; text-align: right; border: none;\">\n",
              "        +0.208\n",
              "    </td>\n",
              "    <td style=\"padding: 0 0.5em 0 0.5em; text-align: left; border: none;\">\n",
              "        job__unknown\n",
              "    </td>\n",
              "    \n",
              "</tr>\n",
              "        \n",
              "            <tr style=\"background-color: hsl(120, 100.00%, 94.17%); border: none;\">\n",
              "    <td style=\"padding: 0 1em 0 0.5em; text-align: right; border: none;\">\n",
              "        +0.201\n",
              "    </td>\n",
              "    <td style=\"padding: 0 0.5em 0 0.5em; text-align: left; border: none;\">\n",
              "        housing__no\n",
              "    </td>\n",
              "    \n",
              "</tr>\n",
              "        \n",
              "            <tr style=\"background-color: hsl(120, 100.00%, 94.34%); border: none;\">\n",
              "    <td style=\"padding: 0 1em 0 0.5em; text-align: right; border: none;\">\n",
              "        +0.193\n",
              "    </td>\n",
              "    <td style=\"padding: 0 0.5em 0 0.5em; text-align: left; border: none;\">\n",
              "        day_of_week__wed\n",
              "    </td>\n",
              "    \n",
              "</tr>\n",
              "        \n",
              "            <tr style=\"background-color: hsl(120, 100.00%, 94.43%); border: none;\">\n",
              "    <td style=\"padding: 0 1em 0 0.5em; text-align: right; border: none;\">\n",
              "        +0.188\n",
              "    </td>\n",
              "    <td style=\"padding: 0 0.5em 0 0.5em; text-align: left; border: none;\">\n",
              "        housing__unknown\n",
              "    </td>\n",
              "    \n",
              "</tr>\n",
              "        \n",
              "        \n",
              "            <tr style=\"background-color: hsl(120, 100.00%, 94.43%); border: none;\">\n",
              "                <td colspan=\"2\" style=\"padding: 0 0.5em 0 0.5em; text-align: center; border: none; white-space: nowrap;\">\n",
              "                    <i>&hellip; 17 more positive &hellip;</i>\n",
              "                </td>\n",
              "            </tr>\n",
              "        \n",
              "\n",
              "        \n",
              "            <tr style=\"background-color: hsl(0, 100.00%, 86.30%); border: none;\">\n",
              "                <td colspan=\"2\" style=\"padding: 0 0.5em 0 0.5em; text-align: center; border: none; white-space: nowrap;\">\n",
              "                    <i>&hellip; 21 more negative &hellip;</i>\n",
              "                </td>\n",
              "            </tr>\n",
              "        \n",
              "        \n",
              "            <tr style=\"background-color: hsl(0, 100.00%, 86.30%); border: none;\">\n",
              "    <td style=\"padding: 0 1em 0 0.5em; text-align: right; border: none;\">\n",
              "        -0.682\n",
              "    </td>\n",
              "    <td style=\"padding: 0 0.5em 0 0.5em; text-align: left; border: none;\">\n",
              "        month__jul\n",
              "    </td>\n",
              "    \n",
              "</tr>\n",
              "        \n",
              "            <tr style=\"background-color: hsl(0, 100.00%, 85.20%); border: none;\">\n",
              "    <td style=\"padding: 0 1em 0 0.5em; text-align: right; border: none;\">\n",
              "        -0.761\n",
              "    </td>\n",
              "    <td style=\"padding: 0 0.5em 0 0.5em; text-align: left; border: none;\">\n",
              "        month__may\n",
              "    </td>\n",
              "    \n",
              "</tr>\n",
              "        \n",
              "            <tr style=\"background-color: hsl(0, 100.00%, 84.70%); border: none;\">\n",
              "    <td style=\"padding: 0 1em 0 0.5em; text-align: right; border: none;\">\n",
              "        -0.798\n",
              "    </td>\n",
              "    <td style=\"padding: 0 0.5em 0 0.5em; text-align: left; border: none;\">\n",
              "        month__aug\n",
              "    </td>\n",
              "    \n",
              "</tr>\n",
              "        \n",
              "            <tr style=\"background-color: hsl(0, 100.00%, 83.53%); border: none;\">\n",
              "    <td style=\"padding: 0 1em 0 0.5em; text-align: right; border: none;\">\n",
              "        -0.886\n",
              "    </td>\n",
              "    <td style=\"padding: 0 0.5em 0 0.5em; text-align: left; border: none;\">\n",
              "        month__nov\n",
              "    </td>\n",
              "    \n",
              "</tr>\n",
              "        \n",
              "\n",
              "        </tbody>\n",
              "    </table>\n",
              "\n",
              "            \n",
              "        \n",
              "\n",
              "        \n",
              "\n",
              "\n",
              "\n",
              "    \n",
              "\n",
              "    \n",
              "\n",
              "    \n",
              "\n",
              "    \n",
              "\n",
              "\n",
              "    \n",
              "\n",
              "    \n",
              "\n",
              "    \n",
              "\n",
              "    \n",
              "\n",
              "    \n",
              "\n",
              "    \n",
              "\n",
              "\n",
              "    \n",
              "\n",
              "    \n",
              "\n",
              "    \n",
              "\n",
              "    \n",
              "\n",
              "    \n",
              "\n",
              "    \n",
              "\n",
              "\n",
              "\n"
            ],
            "text/plain": [
              "<IPython.core.display.HTML object>"
            ]
          },
          "metadata": {
            "tags": []
          },
          "execution_count": 35
        }
      ]
    },
    {
      "cell_type": "markdown",
      "metadata": {
        "id": "iY2hdZRzEDXX",
        "colab_type": "text"
      },
      "source": [
        "That's easier to read. This table gives us the weight associated to each feature. The amplitude tells us how much of an impact a feature has on the predictions on average, the sign tells us in which direction. Here if the campaign is in March, it increases the probability of the prospect to subscribe to the plan significantly. Has the marketting team done something different in March? Or are prospects just more likely to subscribe in March? That's a question to ask to the marketting team, depending on the answer, this finding might or might not be useful."
      ]
    },
    {
      "cell_type": "markdown",
      "metadata": {
        "id": "2ux0nZUMEDXZ",
        "colab_type": "text"
      },
      "source": [
        "We can also use `eli5` to explain a specific prediction, let's pick a row in the test data:"
      ]
    },
    {
      "cell_type": "code",
      "metadata": {
        "id": "wm4i8h2lEDXZ",
        "colab_type": "code",
        "colab": {
          "base_uri": "https://localhost:8080/",
          "height": 146
        },
        "outputId": "31fe68cf-2af2-4d08-db82-95baa1af74f8"
      },
      "source": [
        "i = 4\n",
        "X_test.iloc[[i]]"
      ],
      "execution_count": 29,
      "outputs": [
        {
          "output_type": "execute_result",
          "data": {
            "text/html": [
              "<div>\n",
              "<style scoped>\n",
              "    .dataframe tbody tr th:only-of-type {\n",
              "        vertical-align: middle;\n",
              "    }\n",
              "\n",
              "    .dataframe tbody tr th {\n",
              "        vertical-align: top;\n",
              "    }\n",
              "\n",
              "    .dataframe thead th {\n",
              "        text-align: right;\n",
              "    }\n",
              "</style>\n",
              "<table border=\"1\" class=\"dataframe\">\n",
              "  <thead>\n",
              "    <tr style=\"text-align: right;\">\n",
              "      <th></th>\n",
              "      <th>age</th>\n",
              "      <th>campaign</th>\n",
              "      <th>pdays</th>\n",
              "      <th>previous</th>\n",
              "      <th>job__admin.</th>\n",
              "      <th>job__blue-collar</th>\n",
              "      <th>job__entrepreneur</th>\n",
              "      <th>job__housemaid</th>\n",
              "      <th>job__management</th>\n",
              "      <th>job__retired</th>\n",
              "      <th>...</th>\n",
              "      <th>month__oct</th>\n",
              "      <th>month__sep</th>\n",
              "      <th>day_of_week__fri</th>\n",
              "      <th>day_of_week__mon</th>\n",
              "      <th>day_of_week__thu</th>\n",
              "      <th>day_of_week__tue</th>\n",
              "      <th>day_of_week__wed</th>\n",
              "      <th>poutcome__failure</th>\n",
              "      <th>poutcome__nonexistent</th>\n",
              "      <th>poutcome__success</th>\n",
              "    </tr>\n",
              "  </thead>\n",
              "  <tbody>\n",
              "    <tr>\n",
              "      <th>4</th>\n",
              "      <td>27.0</td>\n",
              "      <td>4.0</td>\n",
              "      <td>3.0</td>\n",
              "      <td>2.0</td>\n",
              "      <td>0.0</td>\n",
              "      <td>0.0</td>\n",
              "      <td>0.0</td>\n",
              "      <td>0.0</td>\n",
              "      <td>0.0</td>\n",
              "      <td>0.0</td>\n",
              "      <td>...</td>\n",
              "      <td>0.0</td>\n",
              "      <td>0.0</td>\n",
              "      <td>0.0</td>\n",
              "      <td>0.0</td>\n",
              "      <td>0.0</td>\n",
              "      <td>0.0</td>\n",
              "      <td>1.0</td>\n",
              "      <td>0.0</td>\n",
              "      <td>0.0</td>\n",
              "      <td>1.0</td>\n",
              "    </tr>\n",
              "  </tbody>\n",
              "</table>\n",
              "<p>1 rows × 57 columns</p>\n",
              "</div>"
            ],
            "text/plain": [
              "    age  campaign  pdays  previous  job__admin.  job__blue-collar  \\\n",
              "4  27.0       4.0    3.0       2.0          0.0               0.0   \n",
              "\n",
              "   job__entrepreneur  job__housemaid  job__management  job__retired  ...  \\\n",
              "4                0.0             0.0              0.0           0.0  ...   \n",
              "\n",
              "   month__oct  month__sep  day_of_week__fri  day_of_week__mon  \\\n",
              "4         0.0         0.0               0.0               0.0   \n",
              "\n",
              "   day_of_week__thu  day_of_week__tue  day_of_week__wed  poutcome__failure  \\\n",
              "4               0.0               0.0               1.0                0.0   \n",
              "\n",
              "   poutcome__nonexistent  poutcome__success  \n",
              "4                    0.0                1.0  \n",
              "\n",
              "[1 rows x 57 columns]"
            ]
          },
          "metadata": {
            "tags": []
          },
          "execution_count": 29
        }
      ]
    },
    {
      "cell_type": "code",
      "metadata": {
        "id": "HpMBfA0aEDXb",
        "colab_type": "code",
        "colab": {}
      },
      "source": [
        "y_test.iloc[i]"
      ],
      "execution_count": 0,
      "outputs": []
    },
    {
      "cell_type": "markdown",
      "metadata": {
        "id": "jnSBIbIZEDXd",
        "colab_type": "text"
      },
      "source": [
        "Our prospect subsribed to the term deposit after the campaign! Let's see what our model would have predicted and how we could explain it to the domain expert."
      ]
    },
    {
      "cell_type": "code",
      "metadata": {
        "id": "6HGApZlfEDXe",
        "colab_type": "code",
        "colab": {
          "base_uri": "https://localhost:8080/",
          "height": 344
        },
        "outputId": "e71a390b-01f8-4516-c14d-5c320545dac7"
      },
      "source": [
        "eli5.show_prediction(lr_model, X_test.iloc[i],\n",
        "                     feature_names=all_features, show_feature_values=True)"
      ],
      "execution_count": 30,
      "outputs": [
        {
          "output_type": "execute_result",
          "data": {
            "text/html": [
              "\n",
              "    <style>\n",
              "    table.eli5-weights tr:hover {\n",
              "        filter: brightness(85%);\n",
              "    }\n",
              "</style>\n",
              "\n",
              "\n",
              "\n",
              "    \n",
              "\n",
              "    \n",
              "\n",
              "    \n",
              "\n",
              "    \n",
              "\n",
              "    \n",
              "\n",
              "    \n",
              "\n",
              "\n",
              "    \n",
              "\n",
              "    \n",
              "\n",
              "    \n",
              "\n",
              "    \n",
              "        \n",
              "\n",
              "    \n",
              "\n",
              "        \n",
              "            \n",
              "                \n",
              "                \n",
              "    \n",
              "        <p style=\"margin-bottom: 0.5em; margin-top: 0em\">\n",
              "            <b>\n",
              "    \n",
              "        y=1\n",
              "    \n",
              "</b>\n",
              "\n",
              "    \n",
              "    (probability <b>0.961</b>, score <b>3.203</b>)\n",
              "\n",
              "top features\n",
              "        </p>\n",
              "    \n",
              "    <table class=\"eli5-weights\"\n",
              "           style=\"border-collapse: collapse; border: none; margin-top: 0em; table-layout: auto; margin-bottom: 2em;\">\n",
              "        <thead>\n",
              "        <tr style=\"border: none;\">\n",
              "            \n",
              "                <th style=\"padding: 0 1em 0 0.5em; text-align: right; border: none;\" title=\"Feature contribution already accounts for the feature value (for linear models, contribution = weight * feature value), and the sum of feature contributions is equal to the score or, for some classifiers, to the probability. Feature values are shown if &quot;show_feature_values&quot; is True.\">\n",
              "                    Contribution<sup>?</sup>\n",
              "                </th>\n",
              "            \n",
              "            <th style=\"padding: 0 0.5em 0 0.5em; text-align: left; border: none;\">Feature</th>\n",
              "            \n",
              "                <th style=\"padding: 0 0.5em 0 1em; text-align: right; border: none;\">Value</th>\n",
              "            \n",
              "        </tr>\n",
              "        </thead>\n",
              "        <tbody>\n",
              "        \n",
              "            <tr style=\"background-color: hsl(120, 100.00%, 80.00%); border: none;\">\n",
              "    <td style=\"padding: 0 1em 0 0.5em; text-align: right; border: none;\">\n",
              "        +0.711\n",
              "    </td>\n",
              "    <td style=\"padding: 0 0.5em 0 0.5em; text-align: left; border: none;\">\n",
              "        contact__cellular\n",
              "    </td>\n",
              "    \n",
              "        <td style=\"padding: 0 0.5em 0 1em; text-align: right; border: none;\">\n",
              "            1.000\n",
              "        </td>\n",
              "    \n",
              "</tr>\n",
              "        \n",
              "            <tr style=\"background-color: hsl(120, 100.00%, 82.98%); border: none;\">\n",
              "    <td style=\"padding: 0 1em 0 0.5em; text-align: right; border: none;\">\n",
              "        +0.564\n",
              "    </td>\n",
              "    <td style=\"padding: 0 0.5em 0 0.5em; text-align: left; border: none;\">\n",
              "        default__no\n",
              "    </td>\n",
              "    \n",
              "        <td style=\"padding: 0 0.5em 0 1em; text-align: right; border: none;\">\n",
              "            1.000\n",
              "        </td>\n",
              "    \n",
              "</tr>\n",
              "        \n",
              "            <tr style=\"background-color: hsl(120, 100.00%, 83.75%); border: none;\">\n",
              "    <td style=\"padding: 0 1em 0 0.5em; text-align: right; border: none;\">\n",
              "        +0.528\n",
              "    </td>\n",
              "    <td style=\"padding: 0 0.5em 0 0.5em; text-align: left; border: none;\">\n",
              "        &lt;BIAS&gt;\n",
              "    </td>\n",
              "    \n",
              "        <td style=\"padding: 0 0.5em 0 1em; text-align: right; border: none;\">\n",
              "            1.000\n",
              "        </td>\n",
              "    \n",
              "</tr>\n",
              "        \n",
              "            <tr style=\"background-color: hsl(120, 100.00%, 86.06%); border: none;\">\n",
              "    <td style=\"padding: 0 1em 0 0.5em; text-align: right; border: none;\">\n",
              "        +0.424\n",
              "    </td>\n",
              "    <td style=\"padding: 0 0.5em 0 0.5em; text-align: left; border: none;\">\n",
              "        poutcome__success\n",
              "    </td>\n",
              "    \n",
              "        <td style=\"padding: 0 0.5em 0 1em; text-align: right; border: none;\">\n",
              "            1.000\n",
              "        </td>\n",
              "    \n",
              "</tr>\n",
              "        \n",
              "            <tr style=\"background-color: hsl(120, 100.00%, 87.49%); border: none;\">\n",
              "    <td style=\"padding: 0 1em 0 0.5em; text-align: right; border: none;\">\n",
              "        +0.363\n",
              "    </td>\n",
              "    <td style=\"padding: 0 0.5em 0 0.5em; text-align: left; border: none;\">\n",
              "        previous\n",
              "    </td>\n",
              "    \n",
              "        <td style=\"padding: 0 0.5em 0 1em; text-align: right; border: none;\">\n",
              "            2.000\n",
              "        </td>\n",
              "    \n",
              "</tr>\n",
              "        \n",
              "            <tr style=\"background-color: hsl(120, 100.00%, 91.54%); border: none;\">\n",
              "    <td style=\"padding: 0 1em 0 0.5em; text-align: right; border: none;\">\n",
              "        +0.208\n",
              "    </td>\n",
              "    <td style=\"padding: 0 0.5em 0 0.5em; text-align: left; border: none;\">\n",
              "        job__unknown\n",
              "    </td>\n",
              "    \n",
              "        <td style=\"padding: 0 0.5em 0 1em; text-align: right; border: none;\">\n",
              "            1.000\n",
              "        </td>\n",
              "    \n",
              "</tr>\n",
              "        \n",
              "            <tr style=\"background-color: hsl(120, 100.00%, 91.98%); border: none;\">\n",
              "    <td style=\"padding: 0 1em 0 0.5em; text-align: right; border: none;\">\n",
              "        +0.193\n",
              "    </td>\n",
              "    <td style=\"padding: 0 0.5em 0 0.5em; text-align: left; border: none;\">\n",
              "        day_of_week__wed\n",
              "    </td>\n",
              "    \n",
              "        <td style=\"padding: 0 0.5em 0 1em; text-align: right; border: none;\">\n",
              "            1.000\n",
              "        </td>\n",
              "    \n",
              "</tr>\n",
              "        \n",
              "            <tr style=\"background-color: hsl(120, 100.00%, 92.12%); border: none;\">\n",
              "    <td style=\"padding: 0 1em 0 0.5em; text-align: right; border: none;\">\n",
              "        +0.188\n",
              "    </td>\n",
              "    <td style=\"padding: 0 0.5em 0 0.5em; text-align: left; border: none;\">\n",
              "        marital__single\n",
              "    </td>\n",
              "    \n",
              "        <td style=\"padding: 0 0.5em 0 1em; text-align: right; border: none;\">\n",
              "            1.000\n",
              "        </td>\n",
              "    \n",
              "</tr>\n",
              "        \n",
              "            <tr style=\"background-color: hsl(120, 100.00%, 93.09%); border: none;\">\n",
              "    <td style=\"padding: 0 1em 0 0.5em; text-align: right; border: none;\">\n",
              "        +0.156\n",
              "    </td>\n",
              "    <td style=\"padding: 0 0.5em 0 0.5em; text-align: left; border: none;\">\n",
              "        loan__no\n",
              "    </td>\n",
              "    \n",
              "        <td style=\"padding: 0 0.5em 0 1em; text-align: right; border: none;\">\n",
              "            1.000\n",
              "        </td>\n",
              "    \n",
              "</tr>\n",
              "        \n",
              "            <tr style=\"background-color: hsl(120, 100.00%, 93.63%); border: none;\">\n",
              "    <td style=\"padding: 0 1em 0 0.5em; text-align: right; border: none;\">\n",
              "        +0.139\n",
              "    </td>\n",
              "    <td style=\"padding: 0 0.5em 0 0.5em; text-align: left; border: none;\">\n",
              "        housing__yes\n",
              "    </td>\n",
              "    \n",
              "        <td style=\"padding: 0 0.5em 0 1em; text-align: right; border: none;\">\n",
              "            1.000\n",
              "        </td>\n",
              "    \n",
              "</tr>\n",
              "        \n",
              "            <tr style=\"background-color: hsl(120, 100.00%, 93.95%); border: none;\">\n",
              "    <td style=\"padding: 0 1em 0 0.5em; text-align: right; border: none;\">\n",
              "        +0.129\n",
              "    </td>\n",
              "    <td style=\"padding: 0 0.5em 0 0.5em; text-align: left; border: none;\">\n",
              "        age\n",
              "    </td>\n",
              "    \n",
              "        <td style=\"padding: 0 0.5em 0 1em; text-align: right; border: none;\">\n",
              "            27.000\n",
              "        </td>\n",
              "    \n",
              "</tr>\n",
              "        \n",
              "            <tr style=\"background-color: hsl(120, 100.00%, 98.15%); border: none;\">\n",
              "    <td style=\"padding: 0 1em 0 0.5em; text-align: right; border: none;\">\n",
              "        +0.024\n",
              "    </td>\n",
              "    <td style=\"padding: 0 0.5em 0 0.5em; text-align: left; border: none;\">\n",
              "        education__university.degree\n",
              "    </td>\n",
              "    \n",
              "        <td style=\"padding: 0 0.5em 0 1em; text-align: right; border: none;\">\n",
              "            1.000\n",
              "        </td>\n",
              "    \n",
              "</tr>\n",
              "        \n",
              "        \n",
              "\n",
              "        \n",
              "        \n",
              "            <tr style=\"background-color: hsl(0, 100.00%, 99.35%); border: none;\">\n",
              "    <td style=\"padding: 0 1em 0 0.5em; text-align: right; border: none;\">\n",
              "        -0.005\n",
              "    </td>\n",
              "    <td style=\"padding: 0 0.5em 0 0.5em; text-align: left; border: none;\">\n",
              "        pdays\n",
              "    </td>\n",
              "    \n",
              "        <td style=\"padding: 0 0.5em 0 1em; text-align: right; border: none;\">\n",
              "            3.000\n",
              "        </td>\n",
              "    \n",
              "</tr>\n",
              "        \n",
              "            <tr style=\"background-color: hsl(0, 100.00%, 93.39%); border: none;\">\n",
              "    <td style=\"padding: 0 1em 0 0.5em; text-align: right; border: none;\">\n",
              "        -0.146\n",
              "    </td>\n",
              "    <td style=\"padding: 0 0.5em 0 0.5em; text-align: left; border: none;\">\n",
              "        month__jun\n",
              "    </td>\n",
              "    \n",
              "        <td style=\"padding: 0 0.5em 0 1em; text-align: right; border: none;\">\n",
              "            1.000\n",
              "        </td>\n",
              "    \n",
              "</tr>\n",
              "        \n",
              "            <tr style=\"background-color: hsl(0, 100.00%, 89.81%); border: none;\">\n",
              "    <td style=\"padding: 0 1em 0 0.5em; text-align: right; border: none;\">\n",
              "        -0.271\n",
              "    </td>\n",
              "    <td style=\"padding: 0 0.5em 0 0.5em; text-align: left; border: none;\">\n",
              "        campaign\n",
              "    </td>\n",
              "    \n",
              "        <td style=\"padding: 0 0.5em 0 1em; text-align: right; border: none;\">\n",
              "            4.000\n",
              "        </td>\n",
              "    \n",
              "</tr>\n",
              "        \n",
              "\n",
              "        </tbody>\n",
              "    </table>\n",
              "\n",
              "            \n",
              "        \n",
              "\n",
              "        \n",
              "\n",
              "\n",
              "\n",
              "    \n",
              "\n",
              "    \n",
              "\n",
              "    \n",
              "\n",
              "    \n",
              "\n",
              "\n",
              "    \n",
              "\n",
              "    \n",
              "\n",
              "    \n",
              "\n",
              "    \n",
              "\n",
              "    \n",
              "\n",
              "    \n",
              "\n",
              "\n",
              "    \n",
              "\n",
              "    \n",
              "\n",
              "    \n",
              "\n",
              "    \n",
              "\n",
              "    \n",
              "\n",
              "    \n",
              "\n",
              "\n",
              "\n"
            ],
            "text/plain": [
              "<IPython.core.display.HTML object>"
            ]
          },
          "metadata": {
            "tags": []
          },
          "execution_count": 30
        }
      ]
    },
    {
      "cell_type": "markdown",
      "metadata": {
        "id": "Ay1l2AvYEDXg",
        "colab_type": "text"
      },
      "source": [
        "Here `eli5` does something really simple: knowing the weights associated to each feature and the actual value for all features for this specific observation, it can compute the contribution of each feature towards the prediction. \n",
        "\n",
        "For this prediction, it looks like the most important factor was that the prospect was contacted via phone (`contact__cellular`==1) and did not have a default (`default__no`==1). That's interesting information that you could share with the team member who was in touch with this prospect, to trigger a discussion on why those features were important."
      ]
    },
    {
      "cell_type": "markdown",
      "metadata": {
        "id": "3JLrMFYhEDXg",
        "colab_type": "text"
      },
      "source": [
        "### with a Decision Tree"
      ]
    },
    {
      "cell_type": "markdown",
      "metadata": {
        "id": "Z1Uza7OsEDXh",
        "colab_type": "text"
      },
      "source": [
        "`eli5` can also be used to intepret decision trees:"
      ]
    },
    {
      "cell_type": "markdown",
      "metadata": {
        "id": "NT9wkl0vEDXi",
        "colab_type": "text"
      },
      "source": [
        "Use grid search to find the best parameters for your Decision Tree:"
      ]
    },
    {
      "cell_type": "code",
      "metadata": {
        "id": "-BuuKMmnEDXj",
        "colab_type": "code",
        "colab": {}
      },
      "source": [
        "gs = GridSearchCV(dt_model, {\"max_depth\": [8, 10, 15], \n",
        "                             \"min_samples_split\": [.005, .01, .05]}, \n",
        "                  n_jobs=-1, cv=5, scoring=\"balanced_accuracy\")\n",
        "\n",
        "gs.fit(X_train, y_train)\n"
      ],
      "execution_count": 0,
      "outputs": []
    },
    {
      "cell_type": "markdown",
      "metadata": {
        "id": "5GiraeKIEDXk",
        "colab_type": "text"
      },
      "source": [
        "Let's see our best parameters and score:"
      ]
    },
    {
      "cell_type": "code",
      "metadata": {
        "id": "E2BxanLqEDXk",
        "colab_type": "code",
        "colab": {}
      },
      "source": [
        "print(gs.best_params_)\n",
        "print(gs.best_score_)\n"
      ],
      "execution_count": 0,
      "outputs": []
    },
    {
      "cell_type": "markdown",
      "metadata": {
        "id": "9QhI2ZLeEDXm",
        "colab_type": "text"
      },
      "source": [
        "Store the best model `best_estimator_` into a new variable `dt_model` that we can try to interpret later:"
      ]
    },
    {
      "cell_type": "code",
      "metadata": {
        "id": "Yu3nG0aqEDXn",
        "colab_type": "code",
        "colab": {}
      },
      "source": [
        "dt_model = gs.best_estimator_\n"
      ],
      "execution_count": 0,
      "outputs": []
    },
    {
      "cell_type": "markdown",
      "metadata": {
        "id": "XNKY-TKMEDXo",
        "colab_type": "text"
      },
      "source": [
        "Check accuracy and classification report"
      ]
    },
    {
      "cell_type": "code",
      "metadata": {
        "id": "hIbrCdLtEDXp",
        "colab_type": "code",
        "colab": {}
      },
      "source": [
        "y_pred = dt_model.predict(X_test)\n",
        "\n",
        "print(balanced_accuracy_score(y_test, y_pred))\n",
        "print(classification_report(y_test, y_pred))\n"
      ],
      "execution_count": 0,
      "outputs": []
    },
    {
      "cell_type": "markdown",
      "metadata": {
        "id": "Fj5a-7ixEDXr",
        "colab_type": "text"
      },
      "source": [
        "Unfortunately, for Decision Trees, `eli5` only gives the simple feature importance. It tells you how important different features are on average relative to each other but not how they impact the outcome.\n",
        "\n",
        "Use `show_weights` on your dt_model:"
      ]
    },
    {
      "cell_type": "code",
      "metadata": {
        "scrolled": true,
        "id": "67EkzeSnEDXr",
        "colab_type": "code",
        "colab": {}
      },
      "source": [
        "eli5.show_weights(dt_model, feature_names=all_features)\n"
      ],
      "execution_count": 0,
      "outputs": []
    },
    {
      "cell_type": "markdown",
      "metadata": {
        "id": "GPXdPMB8EDXv",
        "colab_type": "text"
      },
      "source": [
        "For this model, the most important feature seems to be `pdays` but we don't know if the more days the more likely it is that someone will subscribe, or the opposite. It can be useful to debug your model and know if it seems to pick up something that it shouldn't, but appart for that, it isn't too useful: you won't be able to properly explain what your model does to someone thanks to that."
      ]
    },
    {
      "cell_type": "markdown",
      "metadata": {
        "id": "dG9jPml_EDXz",
        "colab_type": "text"
      },
      "source": [
        "## Limitations of the method...\n",
        "\n",
        "So, `eli5`'s `show_weights` method is good, but for more complex models, such as trees the information provided starts to be less helpful. Since `show_weights` is accessing the internal weights of a model, it does not work with all algorithms, making it harder to compare different models you might have built.\n",
        "\n",
        "`eli5` implements another technique called Permutation Importance that is model agnostic and works for any black box model. By shuffling at random the values of a feature, we can observe how that affects the predictions and quantify how important that feature is. If we repeat on all features, we can get the overall importance of each feature and compare them. Let's try to do that on our models."
      ]
    },
    {
      "cell_type": "markdown",
      "metadata": {
        "id": "JSVRO_lDEDX1",
        "colab_type": "text"
      },
      "source": [
        "### Using Permutation Importance for global and model agnostic feature importance"
      ]
    },
    {
      "cell_type": "code",
      "metadata": {
        "id": "jcgbGz4XEDX2",
        "colab_type": "code",
        "colab": {}
      },
      "source": [
        "from eli5.sklearn import PermutationImportance"
      ],
      "execution_count": 0,
      "outputs": []
    },
    {
      "cell_type": "markdown",
      "metadata": {
        "id": "5god2KUtEDX6",
        "colab_type": "text"
      },
      "source": [
        "First will need to create a new instance of `PermutationImportance` that takes our trained model to be interpreted and the scoring method (`\"balanced_accuracy\"`) we which to use to quantify the importance of our features.\n",
        "\n",
        "Create a PermutationImportance object to interpret your Decision Tree model, and call it `perm`"
      ]
    },
    {
      "cell_type": "code",
      "metadata": {
        "id": "86KIMkDYEDX7",
        "colab_type": "code",
        "colab": {}
      },
      "source": [
        "perm = PermutationImportance(dt_model, scoring=\"balanced_accuracy\")\n"
      ],
      "execution_count": 0,
      "outputs": []
    },
    {
      "cell_type": "markdown",
      "metadata": {
        "id": "pyBYtp1KEDX9",
        "colab_type": "text"
      },
      "source": [
        "For the next step, we will need to `fit` our Permutation Importance. We could do so using the training set, but that would just tell us how important each feature was when trying to minimise the accuracy, not how your model will work on new data. \n",
        "\n",
        "To ensure your interpretation corresponds to how your model works when it is used on new data, you need to train the permutation importance on unseen data, using the test set for instance.\n",
        "\n",
        "Call `fit` on your Permutation Importance object, then use `eli5`'s `show_weigths` as before, but passing the `perm` object instead of the model itself. This will plot your new feature importance:"
      ]
    },
    {
      "cell_type": "code",
      "metadata": {
        "id": "hn9b9KJEEDX_",
        "colab_type": "code",
        "colab": {}
      },
      "source": [
        "perm.fit(X_test, y_test)\n",
        "eli5.show_weights(perm, feature_names=all_features)\n"
      ],
      "execution_count": 0,
      "outputs": []
    },
    {
      "cell_type": "markdown",
      "metadata": {
        "id": "eSFzutyEEDYB",
        "colab_type": "text"
      },
      "source": [
        "Again, here the feature importance is only given as an amplitude, we do not know in what direction it impacts the outcome. But the interpretation is quite interesting; when you will use your model on new data, to predict whether someone will subscribe or not to your plan, the most important thing it will need to get the prediction right is whether you contacted the person by telephone. You're not looking at what the model gave the most importance too whilst learning, but how it will give importance to features from now on based on what it has learnt. It also tells you that variables like whether the person got divorced will be pretty much irrelevant when your model is used.\n",
        "\n",
        "Since Permutation Importance is model agnostic, we can use it on any other model that we have built, and compare the feature importance. Let's do that with a Random Forest and LightGBM model."
      ]
    },
    {
      "cell_type": "markdown",
      "metadata": {
        "id": "StGj0XD_EDYC",
        "colab_type": "text"
      },
      "source": [
        "### with a Random Forest"
      ]
    },
    {
      "cell_type": "markdown",
      "metadata": {
        "id": "k4UvlyJ_EDYC",
        "colab_type": "text"
      },
      "source": [
        "Use grid search to find the best parameters for your `rf_model`"
      ]
    },
    {
      "cell_type": "code",
      "metadata": {
        "id": "yHZRNYGeEDYD",
        "colab_type": "code",
        "colab": {}
      },
      "source": [
        "gs = GridSearchCV(rf_model, {\"max_depth\": [10, 15, 20],\n",
        "                             \"min_samples_split\": [.005, .01, .05]}, \n",
        "                  n_jobs=-1, cv=5, scoring=\"balanced_accuracy\")\n",
        "\n",
        "gs.fit(X_train, y_train)\n"
      ],
      "execution_count": 0,
      "outputs": []
    },
    {
      "cell_type": "markdown",
      "metadata": {
        "id": "7CZ5YS6JEDYE",
        "colab_type": "text"
      },
      "source": [
        "Check your best params and score:"
      ]
    },
    {
      "cell_type": "code",
      "metadata": {
        "id": "51VB9a1GEDYE",
        "colab_type": "code",
        "colab": {}
      },
      "source": [
        "print(gs.best_params_)\n",
        "print(gs.best_score_)\n"
      ],
      "execution_count": 0,
      "outputs": []
    },
    {
      "cell_type": "markdown",
      "metadata": {
        "id": "ucjJuZkSEDYG",
        "colab_type": "text"
      },
      "source": [
        "Create `rf_model`, your model with best parameters:"
      ]
    },
    {
      "cell_type": "code",
      "metadata": {
        "scrolled": true,
        "id": "lENJTyGmEDYH",
        "colab_type": "code",
        "colab": {}
      },
      "source": [
        "rf_model = gs.best_estimator_\n"
      ],
      "execution_count": 0,
      "outputs": []
    },
    {
      "cell_type": "markdown",
      "metadata": {
        "id": "IPhQqXRvEDYJ",
        "colab_type": "text"
      },
      "source": [
        "Generate predictions and check accuracy and classification report:"
      ]
    },
    {
      "cell_type": "code",
      "metadata": {
        "id": "kuRBizPuEDYK",
        "colab_type": "code",
        "colab": {}
      },
      "source": [
        "y_pred = rf_model.predict(X_test)\n",
        "print(balanced_accuracy_score(y_test, y_pred))\n",
        "print(classification_report(y_test, y_pred))\n"
      ],
      "execution_count": 0,
      "outputs": []
    },
    {
      "cell_type": "markdown",
      "metadata": {
        "id": "iIrvZlGVEDYM",
        "colab_type": "text"
      },
      "source": [
        "Build a new Permutation Importance object for your `rf_model` and fit it on the test data. What are the most important features here?"
      ]
    },
    {
      "cell_type": "code",
      "metadata": {
        "id": "llq8MPUbEDYN",
        "colab_type": "code",
        "colab": {}
      },
      "source": [
        "perm = PermutationImportance(rf_model, scoring=\"balanced_accuracy\")\n",
        "perm.fit(X_test, y_test)\n",
        "\n",
        "eli5.show_weights(perm, feature_names=all_features)\n"
      ],
      "execution_count": 0,
      "outputs": []
    },
    {
      "cell_type": "markdown",
      "metadata": {
        "id": "oZw0zkdNEDYO",
        "colab_type": "text"
      },
      "source": [
        "We find again that the feature that tells if prospects were contacted by telephone will have a big impact on whether our model will be right or wrong on new data. This seem to be particularly relevant, that's probably something we want to report to the marketing team."
      ]
    },
    {
      "cell_type": "markdown",
      "metadata": {
        "id": "SddrylmqEDYP",
        "colab_type": "text"
      },
      "source": [
        "### Let's train our LightGBM model as well"
      ]
    },
    {
      "cell_type": "markdown",
      "metadata": {
        "id": "lAI_7LdEEDYQ",
        "colab_type": "text"
      },
      "source": [
        "Now find the best parameters for your pipeline, and create `lgb_model` with the best parameters"
      ]
    },
    {
      "cell_type": "code",
      "metadata": {
        "id": "UAKcizLkEDYR",
        "colab_type": "code",
        "colab": {}
      },
      "source": [
        "gs = GridSearchCV(lgb_model, {\"max_depth\": [8, 10, 12],\n",
        "                              \"min_child_samples\": [20, 40, 60],\n",
        "                              \"n_estimators\": [25, 50, 75]},\n",
        "                  n_jobs=-1, cv=5, scoring=\"balanced_accuracy\")\n",
        "\n",
        "gs.fit(X_train, y_train)\n",
        "\n",
        "print(gs.best_params_)\n",
        "print(gs.best_score_)\n",
        "lgb_model = gs.best_estimator_\n"
      ],
      "execution_count": 0,
      "outputs": []
    },
    {
      "cell_type": "markdown",
      "metadata": {
        "id": "FRqA5W7wEDYU",
        "colab_type": "text"
      },
      "source": [
        "Generate predictions and check the accuracy and classification report:"
      ]
    },
    {
      "cell_type": "code",
      "metadata": {
        "id": "fOEThdKPEDYV",
        "colab_type": "code",
        "colab": {}
      },
      "source": [
        "y_pred = lgb_model.predict(X_test)\n",
        "balanced_accuracy_score(y_test, y_pred)\n",
        "print(classification_report(y_test, y_pred))\n"
      ],
      "execution_count": 0,
      "outputs": []
    },
    {
      "cell_type": "markdown",
      "metadata": {
        "id": "UT5q5dfSEDYY",
        "colab_type": "text"
      },
      "source": [
        "Build a new Permutation Importance object for your `lgb_model` and fit it on the test data. What are the most important features here?"
      ]
    },
    {
      "cell_type": "code",
      "metadata": {
        "id": "PepHK_xUEDYZ",
        "colab_type": "code",
        "colab": {}
      },
      "source": [
        "perm = PermutationImportance(lgb_model, scoring=\"balanced_accuracy\")\n",
        "perm.fit(X_test, y_test)\n",
        "\n",
        "eli5.show_weights(perm, feature_names=all_features)\n"
      ],
      "execution_count": 0,
      "outputs": []
    },
    {
      "cell_type": "markdown",
      "metadata": {
        "id": "wu6dIfd4EDYd",
        "colab_type": "text"
      },
      "source": [
        "Quite similar features again, it looks like all our models, even the most complex ones seem to agree on what is important in the data.\n",
        "\n",
        "Unfortunately, using Permutation Importance, we aren't able to tell much more than that. We cannot tell in what direction this will impact the outcome (which would be useful to make recommendations to the marketing team), nor can we explain a specific prediction... But at least this is model agnostic, so we can use this method for any model and compare the results as we did.\n",
        "\n",
        "The next part of the tutorial is dedicated to LIME, a method that is also model agnostic and allows us to generate explainations of specific, local predictions."
      ]
    }
  ]
}