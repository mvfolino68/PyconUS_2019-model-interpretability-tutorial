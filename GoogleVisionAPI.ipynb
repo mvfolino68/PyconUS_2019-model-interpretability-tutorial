{
  "nbformat": 4,
  "nbformat_minor": 0,
  "metadata": {
    "colab": {
      "name": "GoogleVisionAPI.ipynb",
      "provenance": [],
      "collapsed_sections": [],
      "include_colab_link": true
    },
    "kernelspec": {
      "name": "python3",
      "display_name": "Python 3"
    }
  },
  "cells": [
    {
      "cell_type": "markdown",
      "metadata": {
        "id": "view-in-github",
        "colab_type": "text"
      },
      "source": [
        "<a href=\"https://colab.research.google.com/github/mvfolino68/PyconUS_2019-model-interpretability-tutorial/blob/master/GoogleVisionAPI.ipynb\" target=\"_parent\"><img src=\"https://colab.research.google.com/assets/colab-badge.svg\" alt=\"Open In Colab\"/></a>"
      ]
    },
    {
      "cell_type": "code",
      "metadata": {
        "id": "kGkNYWWiVj0u",
        "colab_type": "code",
        "outputId": "cc1cb38b-a96a-4fcb-d42b-e71f1b4b6075",
        "colab": {
          "base_uri": "https://localhost:8080/",
          "height": 391
        }
      },
      "source": [
        "!pip install google.cloud.vision\n",
        "import os\n",
        "import io\n",
        "import requests\n",
        "import argparse\n",
        "from enum import Enum\n",
        "\n",
        "from google.cloud import vision\n",
        "from google.cloud.vision import types\n",
        "from PIL import Image, ImageDraw\n",
        "from IPython.display import display # to display images\n",
        "\n",
        "os.environ[\"GOOGLE_APPLICATION_CREDENTIALS\"]=\"/content/sturdy-spanner-221114-891167b05110.json\"\n",
        "!echo $GOOGLE_APPLICATION_CREDENTIALS"
      ],
      "execution_count": 0,
      "outputs": [
        {
          "output_type": "stream",
          "text": [
            "Collecting google.cloud.vision\n",
            "  Using cached https://files.pythonhosted.org/packages/ec/e3/77b17733592fde11b7250444ddedd8d04ae1be6f0f4c0d9f47ed154a686e/google_cloud_vision-0.39.0-py2.py3-none-any.whl\n",
            "Requirement already satisfied: google-api-core[grpc]<2.0.0dev,>=1.14.0 in /usr/local/lib/python3.6/dist-packages (from google.cloud.vision) (1.14.3)\n",
            "Requirement already satisfied: google-auth<2.0dev,>=0.4.0 in /usr/local/lib/python3.6/dist-packages (from google-api-core[grpc]<2.0.0dev,>=1.14.0->google.cloud.vision) (1.4.2)\n",
            "Requirement already satisfied: setuptools>=34.0.0 in /usr/local/lib/python3.6/dist-packages (from google-api-core[grpc]<2.0.0dev,>=1.14.0->google.cloud.vision) (41.4.0)\n",
            "Requirement already satisfied: pytz in /usr/local/lib/python3.6/dist-packages (from google-api-core[grpc]<2.0.0dev,>=1.14.0->google.cloud.vision) (2018.9)\n",
            "Requirement already satisfied: protobuf>=3.4.0 in /usr/local/lib/python3.6/dist-packages (from google-api-core[grpc]<2.0.0dev,>=1.14.0->google.cloud.vision) (3.10.0)\n",
            "Requirement already satisfied: googleapis-common-protos<2.0dev,>=1.6.0 in /usr/local/lib/python3.6/dist-packages (from google-api-core[grpc]<2.0.0dev,>=1.14.0->google.cloud.vision) (1.6.0)\n",
            "Requirement already satisfied: requests<3.0.0dev,>=2.18.0 in /usr/local/lib/python3.6/dist-packages (from google-api-core[grpc]<2.0.0dev,>=1.14.0->google.cloud.vision) (2.21.0)\n",
            "Requirement already satisfied: six>=1.10.0 in /usr/local/lib/python3.6/dist-packages (from google-api-core[grpc]<2.0.0dev,>=1.14.0->google.cloud.vision) (1.12.0)\n",
            "Requirement already satisfied: grpcio<2.0dev,>=1.8.2; extra == \"grpc\" in /usr/local/lib/python3.6/dist-packages (from google-api-core[grpc]<2.0.0dev,>=1.14.0->google.cloud.vision) (1.15.0)\n",
            "Requirement already satisfied: rsa>=3.1.4 in /usr/local/lib/python3.6/dist-packages (from google-auth<2.0dev,>=0.4.0->google-api-core[grpc]<2.0.0dev,>=1.14.0->google.cloud.vision) (4.0)\n",
            "Requirement already satisfied: cachetools>=2.0.0 in /usr/local/lib/python3.6/dist-packages (from google-auth<2.0dev,>=0.4.0->google-api-core[grpc]<2.0.0dev,>=1.14.0->google.cloud.vision) (3.1.1)\n",
            "Requirement already satisfied: pyasn1-modules>=0.2.1 in /usr/local/lib/python3.6/dist-packages (from google-auth<2.0dev,>=0.4.0->google-api-core[grpc]<2.0.0dev,>=1.14.0->google.cloud.vision) (0.2.7)\n",
            "Requirement already satisfied: urllib3<1.25,>=1.21.1 in /usr/local/lib/python3.6/dist-packages (from requests<3.0.0dev,>=2.18.0->google-api-core[grpc]<2.0.0dev,>=1.14.0->google.cloud.vision) (1.24.3)\n",
            "Requirement already satisfied: chardet<3.1.0,>=3.0.2 in /usr/local/lib/python3.6/dist-packages (from requests<3.0.0dev,>=2.18.0->google-api-core[grpc]<2.0.0dev,>=1.14.0->google.cloud.vision) (3.0.4)\n",
            "Requirement already satisfied: certifi>=2017.4.17 in /usr/local/lib/python3.6/dist-packages (from requests<3.0.0dev,>=2.18.0->google-api-core[grpc]<2.0.0dev,>=1.14.0->google.cloud.vision) (2019.9.11)\n",
            "Requirement already satisfied: idna<2.9,>=2.5 in /usr/local/lib/python3.6/dist-packages (from requests<3.0.0dev,>=2.18.0->google-api-core[grpc]<2.0.0dev,>=1.14.0->google.cloud.vision) (2.8)\n",
            "Requirement already satisfied: pyasn1>=0.1.3 in /usr/local/lib/python3.6/dist-packages (from rsa>=3.1.4->google-auth<2.0dev,>=0.4.0->google-api-core[grpc]<2.0.0dev,>=1.14.0->google.cloud.vision) (0.4.7)\n",
            "Installing collected packages: google.cloud.vision\n",
            "Successfully installed google.cloud.vision\n",
            "/content/sturdy-spanner-221114-891167b05110.json\n"
          ],
          "name": "stdout"
        }
      ]
    },
    {
      "cell_type": "code",
      "metadata": {
        "id": "hN5rPGEhjp1r",
        "colab_type": "code",
        "colab": {}
      },
      "source": [
        "class FeatureType(Enum):\n",
        "    PAGE = 1\n",
        "    BLOCK = 2\n",
        "    PARA = 3\n",
        "    WORD = 4\n",
        "    SYMBOL = 5\n",
        "\n",
        "\n",
        "def draw_boxes(image, bounds, color):\n",
        "    \"\"\"Draw a border around the image using the hints in the vector list.\"\"\"\n",
        "    draw = ImageDraw.Draw(image)\n",
        "\n",
        "    for bound in bounds:\n",
        "        draw.polygon([\n",
        "            bound.vertices[0].x, bound.vertices[0].y,\n",
        "            bound.vertices[1].x, bound.vertices[1].y,\n",
        "            bound.vertices[2].x, bound.vertices[2].y,\n",
        "            bound.vertices[3].x, bound.vertices[3].y], None, color)\n",
        "    return image\n",
        "\n",
        "\n",
        "def get_document_bounds(image_file, feature):\n",
        "    # [START vision_document_text_tutorial_detect_bounds]\n",
        "    \"\"\"Returns document bounds given an image.\"\"\"\n",
        "    client = vision.ImageAnnotatorClient()\n",
        "\n",
        "    bounds = []\n",
        "    urlimg = requests.get(image_file, stream=True)\n",
        "    content = urlimg.content\n",
        "    # with io.open(image_file, 'rb') as image_file:\n",
        "    #     content = image_file.read()\n",
        "\n",
        "    image = types.Image(content=content)\n",
        "\n",
        "    response = client.document_text_detection(image=image)\n",
        "    document = response.full_text_annotation\n",
        "\n",
        "    # Collect specified feature bounds by enumerating all document features\n",
        "    for page in document.pages:\n",
        "        for block in page.blocks:\n",
        "            for paragraph in block.paragraphs:\n",
        "                for word in paragraph.words:\n",
        "                    for symbol in word.symbols:\n",
        "                        if (feature == FeatureType.SYMBOL):\n",
        "                            bounds.append(symbol.bounding_box)\n",
        "\n",
        "                    if (feature == FeatureType.WORD):\n",
        "                        bounds.append(word.bounding_box)\n",
        "\n",
        "                if (feature == FeatureType.PARA):\n",
        "                    bounds.append(paragraph.bounding_box)\n",
        "\n",
        "            if (feature == FeatureType.BLOCK):\n",
        "                bounds.append(block.bounding_box)\n",
        "\n",
        "        if (feature == FeatureType.PAGE):\n",
        "            bounds.append(block.bounding_box)\n",
        "\n",
        "    # The list `bounds` contains the coordinates of the bounding boxes.\n",
        "    # [END vision_document_text_tutorial_detect_bounds]\n",
        "    return bounds\n",
        "\n",
        "\n",
        "def render_doc_text(filein, fileout):\n",
        "    image = Image.open(requests.get(filein, stream=True).raw)\n",
        "    bounds = get_document_bounds(filein, FeatureType.PAGE)\n",
        "    draw_boxes(image, bounds, 'blue')\n",
        "    bounds = get_document_bounds(filein, FeatureType.PARA)\n",
        "    draw_boxes(image, bounds, 'red')\n",
        "    bounds = get_document_bounds(filein, FeatureType.WORD)\n",
        "    draw_boxes(image, bounds, 'yellow')\n",
        "\n",
        "    if fileout != 0:\n",
        "        image.save(fileout)\n",
        "    else:\n",
        "        display(image)"
      ],
      "execution_count": 0,
      "outputs": []
    },
    {
      "cell_type": "code",
      "metadata": {
        "id": "jVloP4VafTfv",
        "colab_type": "code",
        "colab": {}
      },
      "source": [
        "def detect_text(path):\n",
        "    \"\"\"Detects text in the file.\"\"\"\n",
        "    client = vision.ImageAnnotatorClient()\n",
        "\n",
        "    # with io.open(path, 'rb') as image_file:\n",
        "    #     content = image_file.read()\n",
        "    urlimg = requests.get(path, stream=True)\n",
        "    content = urlimg.content\n",
        "    image = vision.types.Image(content=content)\n",
        "    response = client.text_detection(image=image)\n",
        "    texts = response.text_annotations\n",
        "    print('Texts:')\n",
        "\n",
        "    for text in texts:\n",
        "        print('\\n\"{}\"'.format(text.description))\n",
        "\n",
        "        # vertices = (['({},{})'.format(vertex.x, vertex.y)\n",
        "        #             for vertex in text.bounding_poly.vertices])\n",
        "\n",
        "        # print('bounds: {}'.format(','.join(vertices)))"
      ],
      "execution_count": 0,
      "outputs": []
    },
    {
      "cell_type": "code",
      "metadata": {
        "id": "EPazsFx0RJrC",
        "colab_type": "code",
        "colab": {}
      },
      "source": [
        "image = 'https://upload.wikimedia.org/wikipedia/commons/f/fa/Passport_card.jpg'\n",
        "render_doc_text(image, 0)\n",
        "detect_text(image)"
      ],
      "execution_count": 0,
      "outputs": []
    },
    {
      "cell_type": "code",
      "metadata": {
        "id": "0hZcQQAaplKw",
        "colab_type": "code",
        "colab": {}
      },
      "source": [
        ""
      ],
      "execution_count": 0,
      "outputs": []
    }
  ]
}